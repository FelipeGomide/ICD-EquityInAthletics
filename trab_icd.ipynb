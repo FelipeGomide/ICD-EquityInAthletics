{
 "cells": [
  {
   "cell_type": "markdown",
   "metadata": {},
   "source": [
    "# Trabalho de Introdução à Ciência de Dados - Equity in Athletics\n",
    "\n",
    "## Membros\n",
    "Cecília Junqueira - \n",
    "\n",
    "Carolina Pilla -\n",
    "\n",
    "Felipe Gomide - \n",
    "\n",
    "Lucas Junqueira - "
   ]
  },
  {
   "cell_type": "markdown",
   "metadata": {},
   "source": [
    "### Informações "
   ]
  },
  {
   "cell_type": "code",
   "execution_count": null,
   "metadata": {},
   "outputs": [],
   "source": []
  }
 ],
 "metadata": {
  "kernelspec": {
   "display_name": "Python 3",
   "language": "python",
   "name": "python3"
  },
  "language_info": {
   "name": "python",
   "version": "3.11.9"
  }
 },
 "nbformat": 4,
 "nbformat_minor": 2
}
