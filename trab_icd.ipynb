{
 "cells": [
  {
   "cell_type": "markdown",
   "metadata": {},
   "source": [
    "# Trabalho de Introdução à Ciência de Dados - Equity in Athletics (Equidade no Atletismo)\n",
    "\n",
    "## Membros\n",
    "Cecília Junqueira - 2022094888\n",
    "\n",
    "Carolina Pilla -2022043299\n",
    "\n",
    "\n",
    "Felipe Gomide - 2022043213\n",
    "\n",
    "Lucas Junqueira - 2022043264"
   ]
  },
  {
   "cell_type": "markdown",
   "metadata": {},
   "source": [
    "## Informações \n",
    "\n",
    "* Base de dados do Departamentodde Educação dos E.U.A.: o [Equity in Athletics](https://ope.ed.gov/athletics/#/datafile/list) -  2006 à 2021\n",
    "* A base engloba dados sobre equipes esportivas em faculdades americanas, considerando 43 esportes. Nosso foco é na receita (lucro e gastos) das faculdades e nas proporções de homens e mulheres.st"
   ]
  },
  {
   "cell_type": "markdown",
   "metadata": {},
   "source": [
    "## Referências\n",
    "* Best D1 Colleges. Disponível em: &#60;https://www.ncsasports.org/best-colleges/best-division-1-colleges&#62;. Acesso em: 16 ago. 2024. \n",
    "* "
   ]
  },
  {
   "cell_type": "markdown",
   "metadata": {},
   "source": [
    "## Setup Inicial\n",
    "\n",
    "Instalação de biblioteca auxiliar e imports"
   ]
  },
  {
   "cell_type": "code",
   "execution_count": null,
   "metadata": {},
   "outputs": [],
   "source": [
    "import pandas as pd\n",
    "import matplotlib.pyplot as plt\n",
    "import geopandas\n",
    "#from adjustText import adjust_text\n",
    "import numpy as np\n",
    "\n",
    "import statsmodels.api as sm\n",
    "import statsmodels.formula.api as smf\n",
    "from sklearn.metrics import r2_score"
   ]
  },
  {
   "cell_type": "markdown",
   "metadata": {},
   "source": [
    "# Processamento dos Dados"
   ]
  },
  {
   "cell_type": "markdown",
   "metadata": {},
   "source": [
    "## União dos dados de todos os anos"
   ]
  },
  {
   "cell_type": "code",
   "execution_count": null,
   "metadata": {},
   "outputs": [],
   "source": [
    "df = pd.read_excel(\"https://github.com/FelipeGomide/ICD-EquityInAthletics/raw/master/dados/EADA_2006.xls\")\n",
    "df['YEAR'] = 2006\n",
    "\n",
    "to_concat = []\n",
    "to_concat.append(df)\n",
    "for ano in range(2007, 2012):\n",
    "    df_aux = pd.read_excel(f\"https://github.com/FelipeGomide/ICD-EquityInAthletics/raw/master/dados/EADA_{ano}.xls\")\n",
    "    df_aux['YEAR'] = ano\n",
    "\n",
    "    to_concat.append(df_aux)\n",
    "\n",
    "for ano in range(2012, 2022):\n",
    "    df_aux = pd.read_excel(f\"https://github.com/FelipeGomide/ICD-EquityInAthletics/raw/master/dados/EADA_{ano}.xlsx\")\n",
    "    df_aux['YEAR'] = ano\n",
    "\n",
    "    to_concat.append(df_aux)\n",
    "\n",
    "df = pd.concat(to_concat)\n",
    "df"
   ]
  },
  {
   "cell_type": "markdown",
   "metadata": {},
   "source": [
    "## Seleção dos atributos de interesse"
   ]
  },
  {
   "cell_type": "code",
   "execution_count": null,
   "metadata": {},
   "outputs": [],
   "source": [
    "#Seleção das colunas de interesse\n",
    "aux = df[['SUM_PARTIC_MEN', 'SUM_PARTIC_WOMEN', 'Sports', 'YEAR', 'state_cd', 'TOTAL_OPEXP_INCLCOED', \"SUM_TOTAL_HDCOACH\", \"SUM_TOTAL_ASSTCOACH\", \"TOTAL_REVENUE_ALL\", \"TOTAL_EXPENSE_ALL\"]].reset_index(drop=True)\n",
    "\n",
    "# Nova coluna, total de participantes\n",
    "aux['TOTAL_PARTIC'] = aux['SUM_PARTIC_MEN'] + aux['SUM_PARTIC_WOMEN']\n",
    "\n",
    "aux.shape"
   ]
  },
  {
   "cell_type": "code",
   "execution_count": null,
   "metadata": {},
   "outputs": [],
   "source": [
    "# Modalidades com erro de digitação ou alguma mudança de categorização a partir dos anos\n",
    "rename = {\"Track and Field and Cross Country (combined)\": \"All Track Combined\",\n",
    "          \"Swimming and Diving (combined)\": \"Swimming and Diving\",\n",
    "          \"Field hocky\": \"Field Hockey\"}\n",
    "\n",
    "\n",
    "# Modalidades que já estão contidas em algum grupo serão removidas\n",
    "to_drop = [\"Track and Field, Indoor\", \"Track and Field, Outdoor\", \"Track and Field, X-Country\",\n",
    "           \"Track and Field (Indoor)\", \"Track and Field (Outdoor)\", \"Swimming\",\n",
    "           \"Synchronized Swimming\", \"Synchronized swimming\", \"Diving\", \"Cross Country\",\n",
    "            \"Team Handball\", \"Table Tennis\", \"Badminton\", \"Archery\", \"Weight Lifting\", \"Rifle\", # Esta linha: modalidades com menos de 10 mil atletas todos os anos\n",
    "           \"Other Sports\"] # Conjunto de esportes, sem muita informação, possivelmente muito variados\n",
    "\n",
    "aux = aux.replace(rename)\n",
    "aux = aux[~aux['Sports'].isin(to_drop)]"
   ]
  },
  {
   "cell_type": "code",
   "execution_count": null,
   "metadata": {},
   "outputs": [],
   "source": [
    "data = aux.groupby(by=['YEAR', 'Sports', 'state_cd']).sum().reset_index()\n",
    "data.to_csv(\"tabelas_pre_processadas/modalidades_por_estado.csv\", index=False)"
   ]
  },
  {
   "cell_type": "markdown",
   "metadata": {},
   "source": [
    "Essa tabela será adicionada ao GitHub, para evitar o tempo de processamento de todos os dados, durante a realização das análises."
   ]
  },
  {
   "cell_type": "markdown",
   "metadata": {},
   "source": [
    "# Pergunta 1: Quais são as modalidades esportivas com maiores investimentos em comissão técnica e contratações?\n",
    "\n",
    "Após uma análise mais minuciosa do conteúdo das tabelas, percebi que não existe informação suficiente pra quantificar esse tipo de investimento, apenas investimento no geral. Por isso, tive o enfoque nas diferenças de investimento total e no número de participantes de cada modalidade esportiva."
   ]
  },
  {
   "cell_type": "markdown",
   "metadata": {},
   "source": [
    "## Importando as tabelas\n",
    "\n",
    "Tabela processada anteriormente do GitHub e tabela auxiliar com informações geográficas para desenho dos mapas."
   ]
  },
  {
   "cell_type": "code",
   "execution_count": null,
   "metadata": {},
   "outputs": [],
   "source": [
    "data = pd.read_csv(\"https://raw.githubusercontent.com/FelipeGomide/ICD-EquityInAthletics/master/tabelas_pre_processadas/modalidades_por_estado.csv\")\n",
    "data = data.drop(columns = 'Unnamed: 0')\n",
    "\n",
    "states = geopandas.read_file('https://raw.githubusercontent.com/joncutrer/geopandas-tutorial/master/data/usa-states-census-2014.shp')\n",
    "states = states[['STUSPS','geometry','NAME']]\n",
    "\n",
    "states['coords'] = states['geometry'].apply(lambda x: x.representative_point().coords[:])\n",
    "states['coords'] = [coords[0] for coords in states['coords']]\n",
    "\n",
    "states = states.drop_duplicates()\n",
    "states"
   ]
  },
  {
   "cell_type": "markdown",
   "metadata": {},
   "source": [
    "## Análise Exploratória: Plotando mapas e gráficos de evolução no tempo"
   ]
  },
  {
   "cell_type": "markdown",
   "metadata": {},
   "source": [
    "### Geração de Mapas, quantidade de participantes por modalidade"
   ]
  },
  {
   "cell_type": "code",
   "execution_count": null,
   "metadata": {},
   "outputs": [],
   "source": [
    "def plot_modalidade(states, aux, modalidade, ano):\n",
    "\n",
    "    # Seleciono o ano e esporte de interesse no dataframe\n",
    "    esporte = aux.loc[aux['Sports'] == f'{modalidade}']\n",
    "    modal = esporte.loc[esporte['YEAR'] == ano]\n",
    "\n",
    "    #Agrego os dados de mapas no dataframe\n",
    "    map = states.merge(modal, left_on='STUSPS', right_on='state_cd', how='left')\n",
    "    map = map[['geometry', 'TOTAL_PARTIC', 'STUSPS', 'NAME', 'coords']]\n",
    "\n",
    "    f, ax = plt.subplots()\n",
    "    f.set_size_inches(14, 12)\n",
    "\n",
    "    map.plot(\n",
    "        ax=ax,\n",
    "        column='TOTAL_PARTIC',\n",
    "        cmap='Oranges',\n",
    "        edgecolor=\"black\",\n",
    "        linewidth=0.4,\n",
    "        missing_kwds={\n",
    "            \"color\": \"lightgrey\",\n",
    "            \"edgecolor\": \"black\",\n",
    "            \"label\": \"Missing values\",\n",
    "        },\n",
    "    )\n",
    "\n",
    "    texts = []\n",
    "\n",
    "    for idx, row in map.iterrows():\n",
    "        texts.append(ax.text(row.coords[0], row.coords[1], s=row['NAME'], horizontalalignment='center',)) #bbox={'facecolor': 'white', 'alpha':0.8, 'pad': 2, 'edgecolor':'none'})\n",
    "\n",
    "    sm = plt.cm.ScalarMappable(\n",
    "        cmap=\"Oranges\",                      # Usa o mesmo cmap do mapa\n",
    "        norm=plt.Normalize(\n",
    "            vmin= 0,  # Valor mínimo\n",
    "            vmax=map[\"TOTAL_PARTIC\"].max(),  # Valor máximo\n",
    "        ),\n",
    "    )\n",
    "\n",
    "    cax = f.add_axes(\n",
    "        [\n",
    "            0.9,    # posicao x (entre 0.0 e 1.0)\n",
    "            0.3,    # posicao y (entre 0.0 e 1.0)\n",
    "            0.03,    # largura x\n",
    "            0.40,    # altura y\n",
    "        ]\n",
    "    )\n",
    "\n",
    "    ax.set_title(f'Quantity of Athletes by State, {modalidade} {ano}', fontdict={\"fontsize\": 16})\n",
    "    ax.axis('off')\n",
    "\n",
    "    # A linha abaixo utiliza a biblioteca que otimiza o posicionamento dos textos no plot\n",
    "    # Melhora bastante a visualização dos nomes, já que evita sobreposição,\n",
    "    # porém afeta bastante o desempenho\n",
    "    #adjust_text(texts, time_lim=30, arrowprops=dict(arrowstyle='-', color='black', alpha=1), ax=ax)\n",
    "\n",
    "    f.colorbar(sm, cax=cax)\n",
    "    plt.show()"
   ]
  },
  {
   "cell_type": "markdown",
   "metadata": {},
   "source": [
    "# TO-DO imprimir os gráficos bonitinho contando os resultados"
   ]
  },
  {
   "cell_type": "code",
   "execution_count": null,
   "metadata": {},
   "outputs": [],
   "source": [
    "modalidades = data['Sports'].drop_duplicates().sort_values().reset_index(drop=True)\n",
    "for sport in modalidades:\n",
    "    plot_modalidade(states, data, sport, 2017)"
   ]
  },
  {
   "cell_type": "markdown",
   "metadata": {},
   "source": [
    "### Gráficos de Evolução das Modalidades ao passar do tempo"
   ]
  },
  {
   "cell_type": "code",
   "execution_count": null,
   "metadata": {},
   "outputs": [],
   "source": [
    "linhas = data.groupby(by=['YEAR', 'Sports']).sum().reset_index()\n",
    "linhas = linhas.loc[:, ['YEAR', 'Sports', 'TOTAL_PARTIC']]\n",
    "linhas = linhas.sort_values(by=['Sports', 'YEAR'])\n",
    "\n",
    "esportes = linhas.groupby('Sports')\n",
    "\n",
    "fig, ax = plt.subplots(figsize=(14, 8))\n",
    "\n",
    "texts = []\n",
    "\n",
    "for sport, info in esportes:\n",
    "    ax.plot(info['YEAR'], info['TOTAL_PARTIC'], marker='.', linestyle='-', label=sport)\n",
    "\n",
    "    ultimo_participantes = info.iloc[-1]['TOTAL_PARTIC']\n",
    "\n",
    "    texts.append(ax.text(info.iloc[-1]['YEAR'], ultimo_participantes, sport, horizontalalignment='center',))\n",
    "\n",
    "    #ax.annotate(sport, xy=(info.iloc[-1]['YEAR'], ultimo_participantes), xytext=(10, 0),\n",
    "                #textcoords='offset points', ha='left', va='baseline')\n",
    "\n",
    "ax.set_xlabel('Ano')\n",
    "ax.set_ylabel('Participantes')\n",
    "ax.set_title('Evolução do Número de Participantes por Esporte')\n",
    "#ax.legend(loc='center left', bbox_to_anchor=(1, 0.5))\n",
    "\n",
    "#adjust_text(texts, time_lim=30, arrowprops=dict(arrowstyle='-', color='black', alpha=1), ax=ax)\n",
    "\n",
    "# Exibindo o gráfico\n",
    "plt.grid(True)\n",
    "plt.tight_layout()\n",
    "plt.show()"
   ]
  },
  {
   "cell_type": "code",
   "execution_count": null,
   "metadata": {},
   "outputs": [],
   "source": [
    "linhas = data.groupby(by=['YEAR', 'Sports']).sum().reset_index()\n",
    "linhas = linhas.loc[:, ['YEAR', 'Sports', 'TOTAL_EXPENSE_ALL']]\n",
    "linhas = linhas.sort_values(by=['Sports', 'YEAR'])\n",
    "\n",
    "esportes = linhas.groupby('Sports')\n",
    "\n",
    "fig, ax = plt.subplots(figsize=(14, 8))\n",
    "\n",
    "for sport, info in esportes:\n",
    "    ax.plot(info['YEAR'], info['TOTAL_EXPENSE_ALL'], marker='.', linestyle='-', label=sport)\n",
    "\n",
    "    ultimo_participantes = info.iloc[-1]['TOTAL_EXPENSE_ALL']\n",
    "    ax.annotate(sport, xy=(info.iloc[-1]['YEAR'], ultimo_participantes), xytext=(10, 0),\n",
    "                textcoords='offset points', ha='left', va='center')\n",
    "\n",
    "ax.set_xlabel('Ano')\n",
    "ax.set_ylabel('Investimento total em Bilhões')\n",
    "ax.set_title('Evolução do Investimento Total por Esporte')\n",
    "#ax.legend(loc='center left', bbox_to_anchor=(1.1, 0.5))\n",
    "\n",
    "# Exibindo o gráfico\n",
    "plt.grid(True)\n",
    "plt.tight_layout()\n",
    "plt.show()"
   ]
  },
  {
   "cell_type": "code",
   "execution_count": null,
   "metadata": {},
   "outputs": [],
   "source": [
    "linhas = data.groupby(by=['YEAR', 'Sports']).sum().reset_index()\n",
    "linhas = linhas.loc[:, ['YEAR', 'Sports', 'TOTAL_EXPENSE_ALL']]\n",
    "linhas = linhas.sort_values(by=['Sports', 'YEAR'])\n",
    "\n",
    "esportes = linhas.groupby('Sports')\n",
    "\n",
    "fig, ax = plt.subplots(figsize=(14, 8))\n",
    "\n",
    "for sport, info in esportes:\n",
    "    ax.plot(info['YEAR'], info['TOTAL_EXPENSE_ALL'], marker='.', linestyle='-', label=sport)\n",
    "\n",
    "    ultimo_participantes = info.iloc[-1]['TOTAL_EXPENSE_ALL']\n",
    "    ax.annotate(sport, xy=(info.iloc[-1]['YEAR'], ultimo_participantes), xytext=(10, 0),\n",
    "                textcoords='offset points', ha='left', va='center')\n",
    "\n",
    "ax.set_xlabel('Ano')\n",
    "ax.set_ylabel('Investimento total em Centenas de Milhões')\n",
    "ax.set_title('Evolução do Investimento Total por Esporte, recorte até meio bilhão em investimento')\n",
    "ax.set_ylim(0, 500_000_000)\n",
    "#ax.legend(loc='center left', bbox_to_anchor=(1.1, 0.5))\n",
    "\n",
    "# Exibindo o gráfico\n",
    "plt.grid(True)\n",
    "plt.tight_layout()\n",
    "plt.show()"
   ]
  },
  {
   "cell_type": "markdown",
   "metadata": {},
   "source": [
    "### Resultados\n",
    "\n",
    "Observamos que na questão de número de atletas, existem várias modalidades que dividem o total de atletas, porém o atletismo é a líder nesse quesito, já que é um compilado de muitas modalidades.\n",
    "\n",
    "Apesar disso, o gráfico de investimento mostra um cenário bem diferente e muito mais desigual.\n",
    "Futebol Americano e Basquete dominam o cenário em todos os anos. O Atletismo que antes era o primeiro em número de atletas, tem cerca de 12% do investimento do Futebol Americano.\n",
    "\n",
    "É perceptível que o número de atletas tem uma certa regularidade através dos anos, os números não aumentam muito, porém o investimento tem crescido a cada ano, o que significa que o investimento por atleta tem aumentado bastante.\n",
    "\n",
    "Todos os valores sofreram uma queda em 2020, provavelmente em decorrência da pandemia de Covid-19."
   ]
  },
  {
   "cell_type": "markdown",
   "metadata": {},
   "source": [
    "## Intervalo de Confiança"
   ]
  },
  {
   "cell_type": "code",
   "execution_count": null,
   "metadata": {},
   "outputs": [],
   "source": [
    "def bootstrap_mean(df, column, n=5000, size=None):\n",
    "    '''\n",
    "    Faz um boostrap da média da coluna escolhida. Gera amostras.\n",
    "\n",
    "    Parâmetros\n",
    "    ----------\n",
    "    df: o dataframe\n",
    "    column: a coluna que queremos focar\n",
    "    n: número de amostras para o bootstrap\n",
    "    size: tamanho de cada amostra, por padrão vira o tamanho do df.\n",
    "    '''\n",
    "    if size is None:\n",
    "        size = len(df)\n",
    "    values = np.zeros(n)\n",
    "    for i in range(n):\n",
    "        sample = df[column].sample(size, replace=True)\n",
    "        values[i] = sample.mean()\n",
    "    return values"
   ]
  },
  {
   "cell_type": "markdown",
   "metadata": {},
   "source": [
    "### A liderança em popularidade do Futebol Americano pode ser explicada pelo acaso?\n",
    "\n",
    "O boxplot que mostra os intervalos de confiança mostra que não, o intervalo de bootstrap do Futebol Americano é muito distinto dos outros esportes, ou seja, do ponto de vista estatístico, existe um claro viés que influencia no investimento do esporte. \n",
    "\n",
    "O plot seguinte mostra a mesma relação, porém analisada sobre os investimentos em atletismo, este mostra que o atletismo está contido no intervalo de confiança, logo o acaso explica seus valores de investimento."
   ]
  },
  {
   "cell_type": "code",
   "execution_count": null,
   "metadata": {},
   "outputs": [],
   "source": [
    "football = data.loc[data[\"Sports\"] == \"Football\"]\n",
    "no_football = data.loc[data[\"Sports\"] != \"Football\"]\n",
    "\n",
    "football_mean = bootstrap_mean(football, \"TOTAL_EXPENSE_ALL\")\n",
    "all_mean = bootstrap_mean(no_football, \"TOTAL_EXPENSE_ALL\")\n",
    "\n",
    "to_plot = pd.DataFrame()\n",
    "to_plot['Football'] = football_mean\n",
    "to_plot['All without Football'] = all_mean\n",
    "\n",
    "to_plot.boxplot(grid=False, sym='', whis=[5, 95], showmeans=True)"
   ]
  },
  {
   "cell_type": "code",
   "execution_count": null,
   "metadata": {},
   "outputs": [],
   "source": [
    "atletismo = data.loc[data[\"Sports\"] == \"All Track Combined\"]\n",
    "all = data.loc[data[\"Sports\"] != \"All Track Combined\"]\n",
    "\n",
    "atletismo_mean = bootstrap_mean(atletismo, \"TOTAL_EXPENSE_ALL\")\n",
    "all_mean = bootstrap_mean(all, \"TOTAL_EXPENSE_ALL\")\n",
    "\n",
    "to_plot = pd.DataFrame()\n",
    "to_plot['All Track Combined'] = atletismo_mean\n",
    "to_plot['All Sports without Track and Field'] = all_mean\n",
    "\n",
    "to_plot.boxplot(grid=False, sym='', whis=[5, 95], showmeans=True)"
   ]
  }
 ],
 "metadata": {
  "kernelspec": {
   "display_name": "Python 3",
   "language": "python",
   "name": "python3"
  },
  "language_info": {
   "name": "python",
   "version": "3.11.9"
  }
 },
 "nbformat": 4,
 "nbformat_minor": 2
}
